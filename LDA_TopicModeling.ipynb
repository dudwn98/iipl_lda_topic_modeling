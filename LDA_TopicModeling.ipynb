{
  "nbformat": 4,
  "nbformat_minor": 0,
  "metadata": {
    "colab": {
      "name": "LDA_TopicModeling.ipynb",
      "provenance": [],
      "mount_file_id": "1LhkfH4tc60903pbcoJfly-HbXkg-Lf2s",
      "authorship_tag": "ABX9TyM8VLVVSVJYoU5PiG9muVsL",
      "include_colab_link": true
    },
    "kernelspec": {
      "name": "python3",
      "display_name": "Python 3"
    },
    "language_info": {
      "name": "python"
    }
  },
  "cells": [
    {
      "cell_type": "markdown",
      "metadata": {
        "id": "view-in-github",
        "colab_type": "text"
      },
      "source": [
        "<a href=\"https://colab.research.google.com/github/dudwn98/iipl_lda_topic_modeling/blob/main/LDA_TopicModeling.ipynb\" target=\"_parent\"><img src=\"https://colab.research.google.com/assets/colab-badge.svg\" alt=\"Open In Colab\"/></a>"
      ]
    },
    {
      "cell_type": "code",
      "metadata": {
        "id": "MN0N6eCwgTh8"
      },
      "source": [
        "from sklearn.feature_extraction.text import CountVectorizer\n",
        "from sklearn.decomposition import LatentDirichletAllocation\n",
        "import argparse\n",
        "import pandas as pd\n",
        "import re\n",
        "import konlpy\n",
        "import argparse"
      ],
      "execution_count": 44,
      "outputs": []
    },
    {
      "cell_type": "code",
      "metadata": {
        "id": "DbPJWLGnu6sH"
      },
      "source": [
        "def clean_doc(news):\n",
        "    okt = konlpy.tag.Okt()\n",
        "    clean_tokens = []\n",
        "\n",
        "    #개행 제거\n",
        "    news = re.sub('\\\\\\\\n', '', news)\n",
        "    #이메일 제거\n",
        "    news = re.sub(r'\\b[\\w\\+]+@[\\w]+.[\\w]+.[\\w]+.[\\w]+\\b', ' ', news)\n",
        "    #특수문자, 자음 제거\n",
        "    news = re.sub(r'[^ㄱ-ㅣ가-힣A-Za-z0-9]',' ', news)\n",
        "    #중복 공백 제거\n",
        "    news = re.sub(' +', ' ', news)\n",
        "\n",
        "    return news"
      ],
      "execution_count": 111,
      "outputs": []
    },
    {
      "cell_type": "code",
      "metadata": {
        "id": "3HifA7tAwJjx"
      },
      "source": [
        "def remove_stopwords(text):\n",
        "    okt = konlpy.tag.Okt()\n",
        "    \n",
        "    tokens = okt.nouns(text)\n",
        "\n",
        "    stops = ['기자', '뉴스', '경향', '뉴시스', '무단 배포', '금지', '무단',\n",
        "             '위해', '보기', '배포', '비롯', '통해', '통한', '마련', '다른',\n",
        "             '가지', '여개', '이데일리']\n",
        "    meaningful_words = [w for w in tokens if not w in stops and len(w)>1]\n",
        "    return ' '.join(meaningful_words)"
      ],
      "execution_count": 115,
      "outputs": []
    },
    {
      "cell_type": "code",
      "metadata": {
        "id": "BYXPZ39u32Sh",
        "colab": {
          "base_uri": "https://localhost:8080/"
        },
        "outputId": "1074514d-b97a-4687-d524-f40fc2a5583f"
      },
      "source": [
        "path='/content/drive/MyDrive/크롤링 데이터/2018/2018백남준기념관.csv'\n",
        "\n",
        "file = pd.read_csv(path, encoding='utf-8')\n",
        "df = pd.DataFrame({'doc' : file.기사제목 + file.기사내용})\n",
        "\n",
        "df.loc[:, 'doc'] = df['doc'].apply(preprocessing)\n",
        "df.loc[:, 'doc'] = df['doc'].apply(remove_stopwords)\n",
        "print(df)\n",
        "\n",
        "## 텍스트 데이터를 단어 빈도수에 기반해 벡터화시키기\n",
        "# max_df = 토큰이 나타날 최대 문서 개수 -> 소수점이면 비중\n",
        "# max_features = corpus 중 빈도수가 가장 높은 순으로 해당 개수만큼만 뽑아냄\n",
        "# min_df = 토큰이 나타날 최소 문서 개수 -> 정수면 횟수\n",
        "# ngram_range = (min_n, max_n) 튜플, 단어장 생성에 사용할 토큰의 크기를 결정\n",
        "count_vect = CountVectorizer(max_df=0.95, max_features=1000,\n",
        "                            min_df=2, ngram_range=(1,1))\n",
        "# feature 리스케일링 해서 feature 평균이 0 분산이 1 되게 만들어줌\n",
        "#fit_transfrom은 train dataset에서만 사용\n",
        "ftr_vect = count_vect.fit_transform(df.doc)\n",
        "\n",
        "# LDA 클래스 사용해 피쳐 벡터화시킨 거 토픽모델링\n",
        "# n_components = 토픽개수\n",
        "lda = LatentDirichletAllocation(n_components=5, random_state=42)\n",
        "lda.fit(ftr_vect)\n",
        "\n",
        "# 각 토픽\n",
        "print(lda.components_.shape)\n",
        "# 단어들을 벡터화한 feature\n",
        "print(lda.components_)"
      ],
      "execution_count": 116,
      "outputs": [
        {
          "output_type": "stream",
          "text": [
            "                                                  doc\n",
            "0   백남준 마지막 식사 장어 태창 방직 대표 부친 재산 국고 몰수 뉴욕 악전 고투 전인...\n",
            "1   서울 과거 현재 미래 팔색조 창신동 으리 건물 인테리어 여행 사람 냄새 폴폴 가파른...\n",
            "2   추석 서울 여행 힙스터 골목길 투어 성수동 나비 정원 이하 한국 관광 공사 제공 서...\n",
            "3   서민 전통 시장 여행 향기 서울 관광 재단 서울 이야기 재미 시장 이야기 전통 시장...\n",
            "4   천재 화가 이인성 고택 근대 문화 전시관 복원 콘텐츠 고택 형태 결정 우선 진품 사...\n",
            "5   정보 골목 간직 창신동 앵커 정보 시간 미세먼지 때문 고생 요즘 날씨 걷기 봄날 미...\n",
            "6   대한민국 공간 화대 행복 마을 숭인 품격 생활 공간 수여 대한민국 공간 문화 대상 ...\n",
            "7   도시 문재인 뉴딜 예산 집행 도시 재생 사업 추진 올해 예산 지역 오후 인천 남동구...\n",
            "8   인터뷰 병용 서울시 주거 사업 기획 도시재생 사업 도시재생 사업 시작 서울시 주거지...\n",
            "9   국립 싱가포르 교수 학생 서울 도시재생 서울 박대 싱가포르 국립대 디자인 환경 대학...\n",
            "10  투기 도시재생 사업 국토교통부 서울 창신 숭인 지구 도시재생 선도 지역 선정 마을 ...\n",
            "11  서울시 민선 박물관 미술관 생활사 박물관 사진 미술관 로봇 과학관 공간 조성 현재 ...\n",
            "12  도시재생 사업 투기 세력 창신 숭인 지구 기획 부동산 활개 세운상가 임대료 대폭 마...\n",
            "13  서울시 창신 숭인 채석장 도시재생 암초 토지 확보 사업 지연 사업 부지 차지 경찰 ...\n",
            "14  서울 시립 미술관 분관 오픈 시민 가까이 서울 예고 인근 평창 내달 착공 사진 미술...\n",
            "15  박원순 도시 계획 낙후 지역 도시재생 현장 목소리 선거 도루묵 개발 도시재생 외면 ...\n",
            "16  대표 소장품 시립 미술관 명화 산책 개관 주년 기념 세대 불화 이성자 무제 부터 천...\n",
            "17  정부 주도 도시재생 뉴딜 로드맵 한계 우려 서울 창신동 백남준 기념관 카페 사진 머...\n",
            "18  서울 시립 미술관 시설 보수 임시 서울 서울 시립 미술관 서소문 본관 서울 박현주 ...\n",
            "19  서울 시립 미술관 본관 보수 서울 중구 서소문 서울 시립 미술관 본관 시설 보수 시...\n",
            "20  서울 시립 미술관 시설 보수 임시 서울 서울 시립 미술관 서소문 본관 서울 박현주 ...\n",
            "21  서울시 서울역 일대 도시재생 일자리 세운상가 재상 서울 연합뉴스 자료 사진 서울 연...\n",
            "22  서울역 세운상가 도시재생 사업 일자리 김보경 서울역 일대 세운상가 창신 숭인 지역 ...\n",
            "23  서울시 도시재생 사업 신규 일자리 서울시 서울 세운상가 서울 도심 재생 사업 여명 ...\n",
            "24  서울 시립 미술관 본관 보수 서울 중구 서소문 서울 시립 미술관 본관 시설 보수 시...\n",
            "25  서울 시립 미술관 시설 보수 임시 서울 서울 시립 미술관 서소문 본관 서울 박현주 ...\n",
            "26  서울시 서울역 일대 도시재생 일자리 세운상가 재상 서울 연합뉴스 자료 사진 서울 연...\n",
            "27  서울역 세운상가 도시재생 사업 일자리 김보경 서울역 일대 세운상가 창신 숭인 지역 ...\n",
            "28  서울시 도시재생 사업 신규 일자리 서울시 서울 세운상가 서울 도심 재생 사업 여명 ...\n",
            "29  서울 시립 미술관 본관 보수 서울 중구 서소문 서울 시립 미술관 본관 시설 보수 시...\n",
            "30  서울 시립 미술관 시설 보수 임시 서울 서울 시립 미술관 서소문 본관 서울 박현주 ...\n",
            "31  서울시 서울역 일대 도시재생 일자리 세운상가 재상 서울 연합뉴스 자료 사진 서울 연...\n",
            "32  서울역 세운상가 도시재생 사업 일자리 김보경 서울역 일대 세운상가 창신 숭인 지역 ...\n",
            "33  서울시 도시재생 사업 신규 일자리 서울시 서울 세운상가 서울 도심 재생 사업 여명 ...\n",
            "34  서울시 도시재생 사업 신규 일자리 서울시 서울 세운상가 서울 도심 재생 사업 여명 ...\n",
            "(5, 1000)\n",
            "[[  8.19953062   4.20007465   2.20000374 ...   0.20000029   0.20000004\n",
            "    3.19855892]\n",
            " [  0.20018009   0.20000024   1.19993096 ...   0.20000033   0.20000005\n",
            "    0.20051348]\n",
            " [  0.20032081   1.1999016    0.2000003  ...   1.19747314   0.20000004\n",
            "    0.20092737]\n",
            " [  2.19996838   2.20002334   2.20006476 ...   2.19922529   2.19999984\n",
            "    0.20000013]\n",
            " [  0.20000009   0.20000017   0.20000023 ... 137.20330095   0.20000003\n",
            "    0.2000001 ]]\n"
          ],
          "name": "stdout"
        }
      ]
    },
    {
      "cell_type": "code",
      "metadata": {
        "id": "kpjYLxVRi0PK",
        "colab": {
          "base_uri": "https://localhost:8080/"
        },
        "outputId": "a8a9f66d-4aa4-4fe4-ec43-1834fcac69c8"
      },
      "source": [
        "# lda_model = 벡터화시킨 텍스트 데이터를 fit까지만 적용한 모델\n",
        "def display_topic_words(lda_model, feature_names, num_top_words):\n",
        "    for topic_idx, topic in enumerate(lda_model.components_):\n",
        "        print('\\nTopic #', topic_idx+1)\n",
        "\n",
        "        # topic 별로 1000개의 features 중에서 높은 값 순으로 정렬 후 index 반환\n",
        "        #argsort = 디폴트가 오름차순 -> [::-1]로 내림차순으로 변경\n",
        "        topic_word_idx = topic.argsort()[::-1]\n",
        "        top_idx = topic_word_idx[:num_top_words]\n",
        "\n",
        "        # CountVectorizer 함수 할당시킨 객체에 get_feature_names()로 벡터화시킨 features\n",
        "        # 벡터화시킨 feature는 숫자-알파벳 순으로 정렬, 단어들 순서는 fit_transform 시키고 난 이후에도 동일\n",
        "        feature_concat = '+'.join([str(feature_names[i])+'*'+str(round(topic[i], 1)) for i in top_idx])\n",
        "        print(feature_concat)\n",
        "\n",
        "feature_names = count_vect.get_feature_names()\n",
        "display_topic_words(lda, feature_names, 5)"
      ],
      "execution_count": 117,
      "outputs": [
        {
          "output_type": "stream",
          "text": [
            "\n",
            "Topic # 1\n",
            "창신동*55.0+시장*54.2+골목*52.2+봉제*39.2+거리*23.2\n",
            "\n",
            "Topic # 2\n",
            "미술관*112.0+시립*63.2+본관*31.2+시설*26.3+박물관*24.0\n",
            "\n",
            "Topic # 3\n",
            "사업*94.5+도시재생*56.0+주민*46.2+지역*44.0+숭인*28.4\n",
            "\n",
            "Topic # 4\n",
            "사업*91.7+도시재생*87.1+주민*44.2+임대료*29.2+숭인*28.0\n",
            "\n",
            "Topic # 5\n",
            "고용*147.2+효과*137.2+도시재생*86.6+유발*77.2+일자리*66.2\n"
          ],
          "name": "stdout"
        }
      ]
    },
    {
      "cell_type": "code",
      "metadata": {
        "id": "aIuB-Pf1i4nf",
        "colab": {
          "base_uri": "https://localhost:8080/"
        },
        "outputId": "1badfe77-0c17-4cec-a83c-53664458108d"
      },
      "source": [
        "doc_topics = lda.transform(ftr_vect)\n",
        "print(doc_topics.shape)\n",
        "print(doc_topics)"
      ],
      "execution_count": 93,
      "outputs": [
        {
          "output_type": "stream",
          "text": [
            "(8, 5)\n",
            "[[9.97171827e-01 7.04595053e-04 7.09844429e-04 7.09138450e-04\n",
            "  7.04595053e-04]\n",
            " [9.73971360e-04 9.66613309e-04 7.15351969e-01 2.81740833e-01\n",
            "  9.66613309e-04]\n",
            " [9.97720806e-01 5.66945336e-04 5.71807629e-04 5.73496030e-04\n",
            "  5.66945336e-04]\n",
            " [1.56979397e-01 1.47142293e-03 1.48502349e-03 8.38592734e-01\n",
            "  1.47142293e-03]\n",
            " [8.64321432e-04 8.58599150e-04 9.96546804e-01 8.71675842e-04\n",
            "  8.58599150e-04]\n",
            " [9.98536530e-01 3.63866082e-04 3.68220845e-04 3.67516580e-04\n",
            "  3.63866082e-04]\n",
            " [9.94725335e-01 1.31634070e-03 1.32090086e-03 1.32108278e-03\n",
            "  1.31634070e-03]\n",
            " [9.97399431e-01 6.47652158e-04 6.52894122e-04 6.52370986e-04\n",
            "  6.47652158e-04]]\n"
          ],
          "name": "stdout"
        }
      ]
    },
    {
      "cell_type": "code",
      "metadata": {
        "colab": {
          "base_uri": "https://localhost:8080/"
        },
        "id": "qlt8APlg_G9Q",
        "outputId": "38993ba4-241c-4bfe-ef27-7b7ce228e9dc"
      },
      "source": [
        "topic_names = ['Topic #' + str(i) for i in range(0,5)]\n",
        "topic_df = pd.DataFrame(data=doc_topics, columns=topic_names)\n",
        "print(topic_df)"
      ],
      "execution_count": 67,
      "outputs": [
        {
          "output_type": "stream",
          "text": [
            "   Topic #0  Topic #1  Topic #2  Topic #3  Topic #4\n",
            "0  0.998493  0.000377  0.000375  0.000378  0.000377\n",
            "1  0.000655  0.000652  0.000652  0.997378  0.000664\n",
            "2  0.998888  0.000278  0.000277  0.000279  0.000278\n",
            "3  0.001248  0.001248  0.001242  0.001252  0.995010\n",
            "4  0.000619  0.142411  0.000614  0.855737  0.000620\n",
            "5  0.999234  0.000192  0.000190  0.000192  0.000192\n",
            "6  0.997309  0.000674  0.000671  0.000673  0.000673\n",
            "7  0.998617  0.000345  0.000344  0.000346  0.000347\n"
          ],
          "name": "stdout"
        }
      ]
    },
    {
      "cell_type": "code",
      "metadata": {
        "id": "ySgx0GZPIlBb"
      },
      "source": [
        ""
      ],
      "execution_count": null,
      "outputs": []
    }
  ]
}